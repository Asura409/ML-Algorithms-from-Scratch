{
 "cells": [
  {
   "cell_type": "code",
   "execution_count": 29,
   "id": "56459e6e-3316-4169-a6c3-e4ece8c4fb95",
   "metadata": {},
   "outputs": [],
   "source": [
    "import numpy as np\n",
    "from sklearn.datasets import load_breast_cancer\n",
    "from sklearn.model_selection import train_test_split\n",
    "import matplotlib.pyplot as plt\n",
    "\n",
    "SEED = 42"
   ]
  },
  {
   "cell_type": "code",
   "execution_count": 8,
   "id": "6b007ca0-2c73-4e69-83c0-1be373ba7828",
   "metadata": {},
   "outputs": [],
   "source": [
    "def sigmoid(z):\n",
    "    \"Applies the sigmoid math-function on the input\"\n",
    "    return 1 / (1 + np.exp(-z))"
   ]
  },
  {
   "cell_type": "code",
   "execution_count": 9,
   "id": "e7097fa8-9d48-4f09-a9e6-0fda02b40b9a",
   "metadata": {},
   "outputs": [
    {
     "data": {
      "text/plain": [
       "0.5"
      ]
     },
     "execution_count": 9,
     "metadata": {},
     "output_type": "execute_result"
    }
   ],
   "source": [
    "sigmoid(0)"
   ]
  },
  {
   "cell_type": "code",
   "execution_count": 26,
   "id": "eb5427c2-8c29-4ccb-8481-380db5f3526c",
   "metadata": {},
   "outputs": [],
   "source": [
    "np.random.seed(SEED)\n",
    "# dummy_1 = np.random.rand(10)\n",
    "# dummy_2 = np.random.rand(10)"
   ]
  },
  {
   "cell_type": "code",
   "execution_count": 27,
   "id": "81e14a6d-df26-4945-ad65-66efba55f55c",
   "metadata": {},
   "outputs": [
    {
     "data": {
      "text/plain": [
       "[<matplotlib.lines.Line2D at 0x1c1484729f0>]"
      ]
     },
     "execution_count": 27,
     "metadata": {},
     "output_type": "execute_result"
    },
    {
     "data": {
      "image/png": "[encoded data removed]",
      "text/plain": [
       "<Figure size 640x480 with 1 Axes>"
      ]
     },
     "metadata": {},
     "output_type": "display_data"
    }
   ],
   "source": [
    "# Intuition\n",
    "x_dummy = np.arange(-8, 8,)\n",
    "y_dummy = sigmoid(x_dummy)\n",
    "fig, ax = plt.subplots()\n",
    "ax.plot(x_dummy, y_dummy)"
   ]
  },
  {
   "cell_type": "markdown",
   "id": "3b343c68-cd85-4831-86d6-befbd3aeedd4",
   "metadata": {},
   "source": [
    "## DATA"
   ]
  },
  {
   "cell_type": "code",
   "execution_count": 30,
   "id": "982a586e-c808-4166-80a6-ea05a09caca1",
   "metadata": {},
   "outputs": [
    {
     "data": {
      "text/plain": [
       "((569, 30), (569,))"
      ]
     },
     "execution_count": 30,
     "metadata": {},
     "output_type": "execute_result"
    }
   ],
   "source": [
    "X, y = load_breast_cancer(return_X_y=True)\n",
    "(X.shape, y.shape)"
   ]
  },
  {
   "cell_type": "code",
   "execution_count": 31,
   "id": "0f810fb7-01d8-40cb-a60c-c2cf2575ad78",
   "metadata": {},
   "outputs": [
    {
     "data": {
      "text/plain": [
       "((455, 30), (455,), (114, 30), (114,))"
      ]
     },
     "execution_count": 31,
     "metadata": {},
     "output_type": "execute_result"
    }
   ],
   "source": [
    "X_train, X_test, y_train, y_test = train_test_split(X, \n",
    "                                                    y, \n",
    "                                                    test_size=0.2,\n",
    "                                                    random_state=SEED)\n",
    "(X_train.shape, y_train.shape, X_test.shape, y_test.shape)"
   ]
  },
  {
   "cell_type": "markdown",
   "id": "6c86a588-0c85-484a-86d5-807f81af7166",
   "metadata": {},
   "source": [
    "## 🤖"
   ]
  },
  {
   "cell_type": "code",
   "execution_count": 40,
   "id": "5ac1dc2f-c278-4b41-a4b6-457a594fe704",
   "metadata": {},
   "outputs": [],
   "source": [
    "class LogisticRegression:\n",
    "    def __init__(self, lr: int, n_iters: int):\n",
    "        self.learning_rate = lr\n",
    "        self.n_iters = n_iters\n",
    "        self.weights = None\n",
    "        self.bias = None\n",
    "\n",
    "    def _sigmoid(self, z):\n",
    "        return 1 / (1 + np.exp(-z))\n",
    "\n",
    "    def fit(self, X, y):\n",
    "        n_samples, n_features = X.shape\n",
    "        # Initialize parameters\n",
    "        self.weights = np.zeros(n_features)\n",
    "        self.bais = 0\n",
    "        # Gradient Descent\n",
    "        for _ in range(self.n_iters):\n",
    "            linear_output_model = np.dot(X, self.weights) + self.bais\n",
    "            y_pred = self._sigmoid(y_preds)\n",
    "            # Gradients..\n",
    "            dj_dw = (1 / n_samples) * np.dot(X.T, (y_ped - y))\n",
    "            dj_db = (1 / n_samples) * np.sum(y_pred - y)\n",
    "            # Parameter Upadate\n",
    "            self.weights -= self.learning_rate * dj_dw\n",
    "            self.bias -= self.learning_rate * dj_db\n",
    "\n",
    "        print(\"Fitted\")\n",
    "\n",
    "    def predict(self, X):\n",
    "        linear_model_output = np.dot(X.T, self.weights) + self.bais\n",
    "        y_pred = self._sigmoid(linear_model_output)\n",
    "        y_pred_class = [1 if i > 0.5 else 0 for i in y_pred]\n",
    "        return np.array(y_pred_class)"
   ]
  },
  {
   "cell_type": "code",
   "execution_count": null,
   "id": "22f13982-75bc-4027-8501-93e9d1446767",
   "metadata": {},
   "outputs": [],
   "source": []
  }
 ],
 "metadata": {
  "kernelspec": {
   "display_name": "Sklearn",
   "language": "python",
   "name": "sklearn"
  },
  "language_info": {
   "codemirror_mode": {
    "name": "ipython",
    "version": 3
   },
   "file_extension": ".py",
   "mimetype": "text/x-python",
   "name": "python",
   "nbconvert_exporter": "python",
   "pygments_lexer": "ipython3",
   "version": "3.12.3"
  }
 },
 "nbformat": 4,
 "nbformat_minor": 5
}
