{
 "cells": [
  {
   "cell_type": "code",
   "execution_count": 1,
   "id": "56459e6e-3316-4169-a6c3-e4ece8c4fb95",
   "metadata": {},
   "outputs": [
    {
     "name": "stdout",
     "output_type": "stream",
     "text": [
      "1.26.4\n"
     ]
    }
   ],
   "source": [
    "import numpy as np\n",
    "from sklearn.datasets import load_breast_cancer\n",
    "from sklearn.model_selection import train_test_split\n",
    "import matplotlib.pyplot as plt\n",
    "\n",
    "print(np.__version__)\n",
    "SEED = 42"
   ]
  },
  {
   "cell_type": "code",
   "execution_count": 2,
   "id": "6b007ca0-2c73-4e69-83c0-1be373ba7828",
   "metadata": {},
   "outputs": [],
   "source": [
    "def sigmoid(z):\n",
    "    \"Applies the sigmoid math-function on the input\"\n",
    "    return 1 / (1 + np.exp(-z))"
   ]
  },
  {
   "cell_type": "code",
   "execution_count": 3,
   "id": "e7097fa8-9d48-4f09-a9e6-0fda02b40b9a",
   "metadata": {},
   "outputs": [
    {
     "data": {
      "text/plain": [
       "0.5"
      ]
     },
     "execution_count": 3,
     "metadata": {},
     "output_type": "execute_result"
    }
   ],
   "source": [
    "sigmoid(0)"
   ]
  },
  {
   "cell_type": "code",
   "execution_count": 4,
   "id": "eb5427c2-8c29-4ccb-8481-380db5f3526c",
   "metadata": {},
   "outputs": [],
   "source": [
    "np.random.seed(SEED)\n",
    "# dummy_1 = np.random.rand(10)\n",
    "# dummy_2 = np.random.rand(10)"
   ]
  },
  {
   "cell_type": "code",
   "execution_count": 5,
   "id": "81e14a6d-df26-4945-ad65-66efba55f55c",
   "metadata": {},
   "outputs": [
    {
     "data": {
      "text/plain": [
       "[<matplotlib.lines.Line2D at 0x299047b5340>]"
      ]
     },
     "execution_count": 5,
     "metadata": {},
     "output_type": "execute_result"
    },
    {
     "data": {
      "image/png": "[encoded data removed]",
      "text/plain": [
       "<Figure size 640x480 with 1 Axes>"
      ]
     },
     "metadata": {},
     "output_type": "display_data"
    }
   ],
   "source": [
    "# Intuition\n",
    "x_dummy = np.arange(-8, 8,)\n",
    "y_dummy = sigmoid(x_dummy)\n",
    "fig, ax = plt.subplots()\n",
    "ax.plot(x_dummy, y_dummy)"
   ]
  },
  {
   "cell_type": "markdown",
   "id": "3b343c68-cd85-4831-86d6-befbd3aeedd4",
   "metadata": {},
   "source": [
    "## DATA"
   ]
  },
  {
   "cell_type": "code",
   "execution_count": 33,
   "id": "982a586e-c808-4166-80a6-ea05a09caca1",
   "metadata": {},
   "outputs": [
    {
     "name": "stdout",
     "output_type": "stream",
     "text": [
      "(569, 30) (569,)\n",
      "17070 569\n"
     ]
    }
   ],
   "source": [
    "X, y = load_breast_cancer(return_X_y=True)\n",
    "print(X.shape, y.shape)\n",
    "print(X.size, y.size)"
   ]
  },
  {
   "cell_type": "code",
   "execution_count": 7,
   "id": "0f810fb7-01d8-40cb-a60c-c2cf2575ad78",
   "metadata": {},
   "outputs": [
    {
     "data": {
      "text/plain": [
       "((455, 30), (455,), (114, 30), (114,))"
      ]
     },
     "execution_count": 7,
     "metadata": {},
     "output_type": "execute_result"
    }
   ],
   "source": [
    "X_train, X_test, y_train, y_test = train_test_split(X, \n",
    "                                                    y, \n",
    "                                                    test_size=0.2,\n",
    "                                                    random_state=SEED)\n",
    "(X_train.shape, y_train.shape, X_test.shape, y_test.shape)"
   ]
  },
  {
   "cell_type": "markdown",
   "id": "6c86a588-0c85-484a-86d5-807f81af7166",
   "metadata": {},
   "source": [
    "## 🤖"
   ]
  },
  {
   "cell_type": "code",
   "execution_count": 8,
   "id": "5ac1dc2f-c278-4b41-a4b6-457a594fe704",
   "metadata": {},
   "outputs": [],
   "source": [
    "class LogisticRegression:\n",
    "    \"Logistic Regression Class\"\n",
    "    def __init__(self, lr: int, n_iters: int):\n",
    "        self.learning_rate = lr\n",
    "        self.n_iters = n_iters\n",
    "        self.weights = None\n",
    "        self.bias = None\n",
    "\n",
    "    def _sigmoid(self, z):\n",
    "        return 1 / (1 + np.exp(-z))\n",
    "\n",
    "    def fit(self, X, y):\n",
    "        n_samples, n_features = X.shape\n",
    "        # Initialize parameters\n",
    "        self.weights = np.zeros(n_features)\n",
    "        self.bias = 0\n",
    "        # Gradient Descent\n",
    "        for _ in range(self.n_iters):\n",
    "            linear_output_model = np.dot(X, self.weights) + self.bias\n",
    "            y_pred = self._sigmoid(linear_output_model)\n",
    "            # Gradients..\n",
    "            dj_dw = (1 / n_samples) * np.dot(X.T, (y_pred - y))\n",
    "            dj_db = (1 / n_samples) * np.sum(y_pred - y)\n",
    "            # Parameter Upadate\n",
    "            self.weights -= self.learning_rate * dj_dw\n",
    "            self.bias -= self.learning_rate * dj_db\n",
    "\n",
    "        print(\"Fitted\")\n",
    "\n",
    "    def predict(self, X):\n",
    "        linear_model_output = np.dot(X, self.weights) + self.bias\n",
    "        y_pred = self._sigmoid(linear_model_output)\n",
    "        y_pred_class = [1 if i > 0.5 else 0 for i in y_pred]\n",
    "        return np.array(y_pred_class)"
   ]
  },
  {
   "cell_type": "code",
   "execution_count": 9,
   "id": "22f13982-75bc-4027-8501-93e9d1446767",
   "metadata": {},
   "outputs": [],
   "source": [
    "regressor = LogisticRegression(lr=1e-3, n_iters=1000)"
   ]
  },
  {
   "cell_type": "code",
   "execution_count": 26,
   "id": "91496059-62ca-45aa-8b99-5619aa0fc667",
   "metadata": {},
   "outputs": [
    {
     "name": "stderr",
     "output_type": "stream",
     "text": [
      "C:\\Users\\abyss\\AppData\\Local\\Temp\\ipykernel_20584\\2586929960.py:10: RuntimeWarning: overflow encountered in exp\n",
      "  return 1 / (1 + np.exp(-z))\n"
     ]
    },
    {
     "name": "stdout",
     "output_type": "stream",
     "text": [
      "Fitted\n"
     ]
    }
   ],
   "source": [
    "regressor.fit(X_train, y_train)"
   ]
  },
  {
   "cell_type": "markdown",
   "id": "63afc843-8182-4ee9-a42f-d995dc2aa360",
   "metadata": {},
   "source": [
    "The above warning involves the exp exceeds the floating point limit, to combat this problem:\n",
    "```\n",
    "np.exp(np.clip(z, None, 709)) <- This is a solution\n",
    "```\n"
   ]
  },
  {
   "cell_type": "code",
   "execution_count": 27,
   "id": "0eb1b438-f663-4857-9622-e15558e4b66d",
   "metadata": {},
   "outputs": [
    {
     "name": "stdout",
     "output_type": "stream",
     "text": [
      "[0, 0, 0, 1, 1, 0, 0, 0, 1, 1, 1, 0, 1, 0, 1, 0, 1, 1, 1, 0, 0, 1, 0, 1, 1, 1, 1, 1, 1, 0, 1, 1, 1, 0, 1, 1, 0, 1, 0, 0, 1, 0, 1, 1, 1, 1, 1, 1, 1, 1, 0, 0, 1, 1, 1, 1, 1, 0, 0, 1, 1, 0, 0, 1, 1, 1, 0, 0, 1, 1, 0, 0, 1, 0, 1, 1, 1, 0, 1, 1, 0, 1, 0, 0, 0, 0, 0, 0, 1, 1, 1, 0, 0, 1, 1, 1, 0, 0, 1, 0, 0, 1, 0, 0, 1, 1, 1, 0, 1, 0, 0, 1, 1, 0]\n"
     ]
    },
    {
     "name": "stderr",
     "output_type": "stream",
     "text": [
      "C:\\Users\\abyss\\AppData\\Local\\Temp\\ipykernel_20584\\2586929960.py:10: RuntimeWarning: overflow encountered in exp\n",
      "  return 1 / (1 + np.exp(-z))\n"
     ]
    }
   ],
   "source": [
    "y_pred_ = regressor.predict(X_test)\n",
    "print(list(y_pred_))"
   ]
  },
  {
   "cell_type": "code",
   "execution_count": 28,
   "id": "130bdc67-05d1-4d85-ab34-4800a5e042cf",
   "metadata": {},
   "outputs": [],
   "source": [
    "def accuracy(y_true, y_pred):\n",
    "    return np.sum(y_true == y_pred) / len(y_true)\n"
   ]
  },
  {
   "cell_type": "code",
   "execution_count": 29,
   "id": "feaa0915-ffe4-4a36-8f88-cb2119608da7",
   "metadata": {},
   "outputs": [
    {
     "name": "stdout",
     "output_type": "stream",
     "text": [
      "Accuracy: 0.9474%\n"
     ]
    }
   ],
   "source": [
    "print(f\"Accuracy: {accuracy(y_test, y_pred_):.4f}%\")"
   ]
  },
  {
   "cell_type": "code",
   "execution_count": 14,
   "id": "6f96b30c-354b-4450-8970-3eb5e0fdef82",
   "metadata": {},
   "outputs": [
    {
     "name": "stdout",
     "output_type": "stream",
     "text": [
      "(114, 30) (114,)\n",
      "3420 114\n"
     ]
    }
   ],
   "source": [
    "print(X_test.shape, y_test.shape)\n",
    "print(X_test.size, y_test.size)"
   ]
  },
  {
   "cell_type": "markdown",
   "id": "cdb0bbea-33c5-49b3-a361-24d5118ca244",
   "metadata": {},
   "source": [
    "# Intuition Plotting"
   ]
  },
  {
   "cell_type": "code",
   "execution_count": 31,
   "id": "4a8c2368-9079-4902-9c10-8be06eb14a22",
   "metadata": {},
   "outputs": [],
   "source": [
    "X_dummy = np.linspace(-10, 10, 100) # Feature Value\n",
    "ypreds_dummy = 1 / (1 + np.exp(-X_dummy))"
   ]
  },
  {
   "cell_type": "code",
   "execution_count": 21,
   "id": "deed5298-681f-464e-90c1-503876d8c81a",
   "metadata": {},
   "outputs": [
    {
     "data": {
      "image/png": "[encoded data removed]",
      "text/plain": [
       "<Figure size 1000x600 with 1 Axes>"
      ]
     },
     "metadata": {},
     "output_type": "display_data"
    }
   ],
   "source": [
    "plt.figure(figsize=(10, 6))\n",
    "plt.scatter(X_dummy, ypreds_dummy, color='blue', label='Predicted probabilities')\n",
    "plt.title('Logistic Regression Predictions')\n",
    "plt.xlabel('Feature Value')\n",
    "plt.ylabel('Predicted Probability')\n",
    "plt.axhline(y=0.5, color='r', linestyle='--', label='Decision Boundary (0.5)')\n",
    "plt.legend()\n",
    "plt.grid()\n",
    "plt.show()"
   ]
  },
  {
   "cell_type": "code",
   "execution_count": null,
   "id": "85dcbfd6-c181-4a39-8626-ca3bec65d9e9",
   "metadata": {},
   "outputs": [],
   "source": []
  }
 ],
 "metadata": {
  "kernelspec": {
   "display_name": "Sklearn",
   "language": "python",
   "name": "sklearn"
  },
  "language_info": {
   "codemirror_mode": {
    "name": "ipython",
    "version": 3
   },
   "file_extension": ".py",
   "mimetype": "text/x-python",
   "name": "python",
   "nbconvert_exporter": "python",
   "pygments_lexer": "ipython3",
   "version": "3.12.3"
  }
 },
 "nbformat": 4,
 "nbformat_minor": 5
}
