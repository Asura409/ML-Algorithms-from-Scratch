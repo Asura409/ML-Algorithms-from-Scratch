{
 "cells": [
  {
   "cell_type": "code",
   "execution_count": 1,
   "id": "6697a4ba-de97-4a7d-9c06-58d88824d0cd",
   "metadata": {},
   "outputs": [
    {
     "name": "stdout",
     "output_type": "stream",
     "text": [
      "Numpy Version: 2.1.1\n"
     ]
    }
   ],
   "source": [
    "import numpy as np\n",
    "import sklearn\n",
    "from sklearn.datasets import make_regression\n",
    "from sklearn.model_selection import train_test_split\n",
    "import matplotlib.pyplot as plt\n",
    "\n",
    "from importlib.metadata import version\n",
    "print(f\"Numpy Version: {version(\"numpy\")}\")\n",
    "# print(f\"Matplotlib Version: {mmatplotlib.__version__})\n",
    "SEED = 42"
   ]
  },
  {
   "cell_type": "code",
   "execution_count": 2,
   "id": "bd28e5b4-d6b1-4490-bdd7-c56567745c9c",
   "metadata": {},
   "outputs": [],
   "source": [
    "# Intuition\n",
    "    # y = mX + b\n",
    "        # where m and b are parameters"
   ]
  },
  {
   "cell_type": "markdown",
   "id": "d2f67319-d054-445e-be54-79a4c4e7ebaa",
   "metadata": {},
   "source": [
    "## Data"
   ]
  },
  {
   "cell_type": "code",
   "execution_count": 3,
   "id": "49e32566-97e2-4c57-95e7-45f5ac08e5e8",
   "metadata": {},
   "outputs": [],
   "source": [
    "# Data\n",
    "X, y = make_regression(n_samples=100,\n",
    "                       n_features=1,\n",
    "                       noise=1,\n",
    "                       random_state=SEED)"
   ]
  },
  {
   "cell_type": "code",
   "execution_count": 4,
   "id": "5493d999-8264-499c-be63-a789cea72cd7",
   "metadata": {},
   "outputs": [
    {
     "data": {
      "text/plain": [
       "((100, 1), (100,))"
      ]
     },
     "execution_count": 4,
     "metadata": {},
     "output_type": "execute_result"
    }
   ],
   "source": [
    "X.shape, y.shape"
   ]
  },
  {
   "cell_type": "code",
   "execution_count": 5,
   "id": "b6a56609-2414-46dc-ae04-dcca4359244f",
   "metadata": {},
   "outputs": [
    {
     "data": {
      "text/plain": [
       "((80, 1), (80,), (20, 1), (20,))"
      ]
     },
     "execution_count": 5,
     "metadata": {},
     "output_type": "execute_result"
    }
   ],
   "source": [
    "X_train, X_test, y_train, y_test = train_test_split(X, \n",
    "                                                    y, \n",
    "                                                    test_size=0.2,\n",
    "                                                    random_state=SEED)\n",
    "\n",
    "(X_train.shape, y_train.shape, X_test.shape, y_test.shape)"
   ]
  },
  {
   "cell_type": "code",
   "execution_count": 6,
   "id": "4e1fb46a-b232-4e87-9ebb-ff3dbae0760b",
   "metadata": {},
   "outputs": [],
   "source": [
    "# Loss Function\n",
    "def MSE(y_true, y_pred):\n",
    "    assert y_pred.shape == y_true.shape, \"Arrays must have the same shape\"\n",
    "    m, n = X.shape\n",
    "    return np.mean((1 / m * (y_true - y_pred)) ** 2)"
   ]
  },
  {
   "cell_type": "code",
   "execution_count": 7,
   "id": "e8e386d3-dbd4-4d01-9be2-47e7e2ace881",
   "metadata": {},
   "outputs": [
    {
     "data": {
      "text/plain": [
       "np.float64(0.05883333333333332)"
      ]
     },
     "execution_count": 7,
     "metadata": {},
     "output_type": "execute_result"
    }
   ],
   "source": [
    "true_dummy = np.array([1, 2, 3])\n",
    "pred_dummy = np.array([1, 44, 2])\n",
    "\n",
    "MSE(true_dummy, pred_dummy)"
   ]
  },
  {
   "cell_type": "code",
   "execution_count": 8,
   "id": "8930f192-91a9-44d7-98ea-d42e100bfbe2",
   "metadata": {},
   "outputs": [
    {
     "data": {
      "text/plain": [
       "Text(0.5, 1.0, 'Distribution of plot')"
      ]
     },
     "execution_count": 8,
     "metadata": {},
     "output_type": "execute_result"
    },
    {
     "data": {
      "image/png": "[encoded data removed]",
      "text/plain": [
       "<Figure size 800x600 with 1 Axes>"
      ]
     },
     "metadata": {},
     "output_type": "display_data"
    }
   ],
   "source": [
    "plt.figure(figsize=(8, 6))\n",
    "plt.scatter(X_train, y_train)\n",
    "plt.scatter(X_test, y_test)\n",
    "plt.title(\"Distribution of plot\")"
   ]
  },
  {
   "cell_type": "markdown",
   "id": "3e44ff41-7828-4f1a-9de4-6b938211cbb6",
   "metadata": {},
   "source": [
    "## Algorithm"
   ]
  },
  {
   "cell_type": "code",
   "execution_count": 9,
   "id": "fa2aa99e-70b6-4222-b184-ee61b0eb9367",
   "metadata": {},
   "outputs": [],
   "source": [
    "class LinearRegression:\n",
    "    \"\"\" LinearRegression Task\"\"\"\n",
    "    def __init__(self, lr: int, n_iters: int):\n",
    "        \"\"\"\n",
    "        Args:\n",
    "        lr(Learning Rate): Used for optimization\n",
    "        n_iters(Number of iterations): Iteration step count\n",
    "        \"\"\"\n",
    "        self.lr = lr\n",
    "        self.n_iters = n_iters\n",
    "        self.Weights = None\n",
    "        self.bias = None\n",
    "\n",
    "    def fit(self, X, y):\n",
    "        n_samples, n_features = X.shape\n",
    "        self.Weights = np.zeros(n_features)\n",
    "        self.bias = 0\n",
    "\n",
    "        for _ in range(self.n_iters):\n",
    "            y_pred = np.dot(X, self.Weights) + self.bias\n",
    "            dj_dw = (1 / n_samples) * np.dot(X.T, y_pred - y)\n",
    "            dj_db = (1 / n_samples) * np.sum(y_pred - y)\n",
    "\n",
    "            self.Weights -= self.lr * dj_dw\n",
    "            self.bias -= self.lr * dj_db\n",
    "\n",
    "        print(\"Fitted\")\n",
    "\n",
    "    def predict(self, X):\n",
    "        return np.dot(X, self.Weights) + self.bias"
   ]
  },
  {
   "cell_type": "code",
   "execution_count": 19,
   "id": "668dfd66-3b61-4bc8-9d54-0d00cf5cd1bd",
   "metadata": {},
   "outputs": [
    {
     "name": "stdout",
     "output_type": "stream",
     "text": [
      "Fitted\n"
     ]
    }
   ],
   "source": [
    "regression = LinearRegression(lr = 1e-3, n_iters=3000)\n",
    "regression.fit(X_train, y_train)"
   ]
  },
  {
   "cell_type": "code",
   "execution_count": 20,
   "id": "4de1de2e-3570-43aa-b575-7b5aaee35f05",
   "metadata": {},
   "outputs": [
    {
     "name": "stdout",
     "output_type": "stream",
     "text": [
      "Loss: 0.001412\n"
     ]
    }
   ],
   "source": [
    "y_pred = regression.predict(X_test)\n",
    "print(f\"Loss: {MSE(y_test, y_pred):.6f}\")"
   ]
  },
  {
   "cell_type": "code",
   "execution_count": 21,
   "id": "adc44563-6720-4fc7-932a-754db5155fc8",
   "metadata": {},
   "outputs": [
    {
     "data": {
      "image/png": "[encoded data removed]",
      "text/plain": [
       "<Figure size 800x600 with 1 Axes>"
      ]
     },
     "metadata": {},
     "output_type": "display_data"
    }
   ],
   "source": [
    "# New Plot\n",
    "# for the train data\n",
    "y_pred_line = y_pred\n",
    "plt.figure(figsize=(8, 6))\n",
    "plt.scatter(X_test, y_test)\n",
    "plt.title(\"Result\")\n",
    "plt.plot(X_test, y_pred_line, label=\"Prediction\")\n",
    "plt.show()"
   ]
  },
  {
   "cell_type": "code",
   "execution_count": 22,
   "id": "498f8a76-1acd-4abb-8e2a-8271f182264c",
   "metadata": {},
   "outputs": [],
   "source": [
    "# Bruh😔"
   ]
  },
  {
   "cell_type": "code",
   "execution_count": null,
   "id": "b1312083-650e-497e-a37d-f5c8abdbad07",
   "metadata": {},
   "outputs": [],
   "source": []
  }
 ],
 "metadata": {
  "kernelspec": {
   "display_name": "torch",
   "language": "python",
   "name": "torch"
  },
  "language_info": {
   "codemirror_mode": {
    "name": "ipython",
    "version": 3
   },
   "file_extension": ".py",
   "mimetype": "text/x-python",
   "name": "python",
   "nbconvert_exporter": "python",
   "pygments_lexer": "ipython3",
   "version": "3.12.7"
  }
 },
 "nbformat": 4,
 "nbformat_minor": 5
}
